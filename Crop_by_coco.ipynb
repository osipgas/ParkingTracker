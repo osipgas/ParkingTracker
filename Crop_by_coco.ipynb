{
 "cells": [
  {
   "cell_type": "code",
   "execution_count": 1,
   "metadata": {},
   "outputs": [],
   "source": [
    "import json\n",
    "from PIL import Image\n",
    "import os\n",
    "import time"
   ]
  },
  {
   "cell_type": "code",
   "execution_count": 2,
   "metadata": {},
   "outputs": [],
   "source": [
    "def create_subfolder(folder_path, subfolder_name):\n",
    "    subfolder_path = os.path.join(folder_path, subfolder_name)\n",
    "    os.makedirs(subfolder_path, exist_ok=True)\n",
    "    return subfolder_path"
   ]
  },
  {
   "cell_type": "code",
   "execution_count": 3,
   "metadata": {},
   "outputs": [],
   "source": [
    "def reform(bbox):\n",
    "    x, y, w, h = bbox\n",
    "    left = x\n",
    "    upper = y\n",
    "    right = x + w\n",
    "    bottom = y + h\n",
    "    return left, upper, right, bottom"
   ]
  },
  {
   "cell_type": "code",
   "execution_count": 4,
   "metadata": {},
   "outputs": [],
   "source": [
    "def crop_save_by_coco_annotations(coco, busy_folder_path, free_folder_path, images_folder_path, busy_num, save_prefix=\"\"):\n",
    "    current_image_id = -1\n",
    "    for annotation in coco[\"annotations\"]:\n",
    " \n",
    "        new_id = annotation[\"image_id\"]\n",
    "        if current_image_id != new_id:\n",
    "            image_name = coco[\"images\"][new_id][\"file_name\"]\n",
    "            load_path = os.path.join(images_folder_path, image_name)\n",
    "\n",
    "            if os.path.exists(load_path):\n",
    "                image = Image.open(load_path)\n",
    "                current_image_id = annotation[\"image_id\"]\n",
    "            else:\n",
    "                continue\n",
    "\n",
    "\n",
    "        # crop\n",
    "        reformed_bbox = reform(annotation[\"bbox\"])\n",
    "        cropped_image = image.crop(reformed_bbox)\n",
    "        \n",
    "        # save\n",
    "        cropped_image_name = f\"{save_prefix}{annotation['id']}.jpg\"\n",
    "        save_folder = busy_folder_path if annotation[\"category_id\"] == busy_num else free_folder_path\n",
    "        image_save_path = os.path.join(save_folder, cropped_image_name)\n",
    "        cropped_image.save(image_save_path)"
   ]
  },
  {
   "cell_type": "code",
   "execution_count": 5,
   "metadata": {},
   "outputs": [],
   "source": [
    "paths = {\"first\": {},\n",
    "         \"second\": {},\n",
    "         \"third\": {},\n",
    "         \"sixth\": {},\n",
    "         \"seventh\": {}}\n",
    "\n",
    "busy = \"busy\"\n",
    "free = \"free\""
   ]
  },
  {
   "cell_type": "code",
   "execution_count": 6,
   "metadata": {},
   "outputs": [],
   "source": [
    "first_save_folder_path = \"/Users/osiprovin/Desktop/ml:dl/CV/Parking detection/Data/FIRST DATASET/CROPPED\"\n",
    "second_save_folder_path = \"/Users/osiprovin/Desktop/ml:dl/CV/Parking detection/Data/SECOND DATASET/CROPPED\"\n",
    "third_save_folder_path = \"/Users/osiprovin/Desktop/ml:dl/CV/Parking detection/Data/THIRD DATASET/CROPPED\"\n",
    "sixth_save_folder_path = \"/Users/osiprovin/Desktop/ml:dl/CV/Parking detection/Data/SIXTH DATASET/CROPPED\"\n",
    "seventh_save_folder_path = \"/Users/osiprovin/Desktop/ml:dl/CV/Parking detection/Data/SEVENTH DATASET/CROPPED\""
   ]
  },
  {
   "cell_type": "code",
   "execution_count": 7,
   "metadata": {},
   "outputs": [],
   "source": [
    "for busy_free in (busy, free):\n",
    "    paths[\"first\"][busy_free] = create_subfolder(first_save_folder_path, busy_free)\n",
    "    paths[\"second\"][busy_free] = create_subfolder(second_save_folder_path, busy_free)\n",
    "    paths[\"third\"][busy_free] = create_subfolder(third_save_folder_path, busy_free)\n",
    "    paths[\"sixth\"][busy_free] = create_subfolder(sixth_save_folder_path, busy_free)\n",
    "    paths[\"seventh\"][busy_free] = create_subfolder(seventh_save_folder_path, busy_free)"
   ]
  },
  {
   "cell_type": "markdown",
   "metadata": {},
   "source": [
    "----\n",
    "FIRST DATASET"
   ]
  },
  {
   "cell_type": "markdown",
   "metadata": {},
   "source": [
    "this dataset consists a lot of images, i don't need that much so i will use only test dataset"
   ]
  },
  {
   "cell_type": "code",
   "execution_count": 8,
   "metadata": {},
   "outputs": [],
   "source": [
    "# coco paths\n",
    "train_coco_path = \"/Users/osiprovin/Desktop/ml:dl/CV/Parking detection/Data/FIRST DATASET/PKLot/train/_annotations.coco.json\"\n",
    "val_coco_path = \"/Users/osiprovin/Desktop/ml:dl/CV/Parking detection/Data/FIRST DATASET/PKLot/valid/_annotations.coco.json\"\n",
    "test_coco_path = \"/Users/osiprovin/Desktop/ml:dl/CV/Parking detection/Data/FIRST DATASET/PKLot/test/_annotations.coco.json\"\n",
    "\n",
    "# load coco\n",
    "train_coco = json.load(open(train_coco_path))\n",
    "val_coco = json.load(open(val_coco_path))\n",
    "test_coco = json.load(open(test_coco_path))\n",
    "\n",
    "# images folders paths\n",
    "train_images_folder_path = \"/Users/osiprovin/Desktop/ml:dl/CV/Parking detection/Data/FIRST DATASET/PKLot/train\"\n",
    "val_images_folder_path = \"/Users/osiprovin/Desktop/ml:dl/CV/Parking detection/Data/FIRST DATASET/PKLot/valid\"\n",
    "test_images_folder_path = \"/Users/osiprovin/Desktop/ml:dl/CV/Parking detection/Data/FIRST DATASET/PKLot/test\""
   ]
  },
  {
   "cell_type": "code",
   "execution_count": 9,
   "metadata": {},
   "outputs": [
    {
     "data": {
      "text/plain": [
       "(497856, 143316, 70684)"
      ]
     },
     "execution_count": 9,
     "metadata": {},
     "output_type": "execute_result"
    }
   ],
   "source": [
    "len(train_coco[\"annotations\"]), len(val_coco[\"annotations\"]), len(test_coco[\"annotations\"])"
   ]
  },
  {
   "cell_type": "code",
   "execution_count": 10,
   "metadata": {},
   "outputs": [],
   "source": [
    "# this dataset is huge, i dont need that much data, so i will use just test set\n",
    "busy_num = 2\n",
    "crop_save_by_coco_annotations(test_coco, paths[\"first\"][busy], paths[\"first\"][free], test_images_folder_path, busy_num)"
   ]
  },
  {
   "cell_type": "markdown",
   "metadata": {},
   "source": [
    "----\n",
    "SECOND DATASET"
   ]
  },
  {
   "cell_type": "code",
   "execution_count": 11,
   "metadata": {},
   "outputs": [],
   "source": [
    "train_coco_path = \"/Users/osiprovin/Desktop/ml:dl/CV/Parking detection/Data/SECOND DATASET/Parking Lot/train/_annotations.coco.json\"\n",
    "val_coco_path = \"/Users/osiprovin/Desktop/ml:dl/CV/Parking detection/Data/SECOND DATASET/Parking Lot/valid/_annotations.coco.json\"\n",
    "test_coco_path = \"/Users/osiprovin/Desktop/ml:dl/CV/Parking detection/Data/SECOND DATASET/Parking Lot/test/_annotations.coco.json\"\n",
    "\n",
    "train_coco = json.load(open(train_coco_path))\n",
    "val_coco = json.load(open(val_coco_path))\n",
    "test_coco = json.load(open(test_coco_path))\n",
    "\n",
    "train_images_folder_path = \"/Users/osiprovin/Desktop/ml:dl/CV/Parking detection/Data/SECOND DATASET/Parking Lot/train\"\n",
    "val_images_folder_path = \"/Users/osiprovin/Desktop/ml:dl/CV/Parking detection/Data/SECOND DATASET/Parking Lot/valid\"\n",
    "test_images_folder_path = \"/Users/osiprovin/Desktop/ml:dl/CV/Parking detection/Data/SECOND DATASET/Parking Lot/test\""
   ]
  },
  {
   "cell_type": "code",
   "execution_count": 12,
   "metadata": {},
   "outputs": [
    {
     "data": {
      "text/plain": [
       "(1184, 240, 128)"
      ]
     },
     "execution_count": 12,
     "metadata": {},
     "output_type": "execute_result"
    }
   ],
   "source": [
    "len(train_coco[\"annotations\"]), len(val_coco[\"annotations\"]), len(test_coco[\"annotations\"])"
   ]
  },
  {
   "cell_type": "code",
   "execution_count": 13,
   "metadata": {},
   "outputs": [],
   "source": [
    "# this dataset set is small, so i will use all data, i will save it in 1 folder\n",
    "busy_num = 3\n",
    "crop_save_by_coco_annotations(train_coco, paths[\"second\"][busy], paths[\"second\"][free], train_images_folder_path, busy_num)\n",
    "crop_save_by_coco_annotations(val_coco, paths[\"second\"][busy], paths[\"second\"][free], val_images_folder_path, busy_num, save_prefix=\"val_coco\")\n",
    "crop_save_by_coco_annotations(test_coco, paths[\"second\"][busy], paths[\"second\"][free], test_images_folder_path, busy_num, save_prefix=\"test\")"
   ]
  },
  {
   "cell_type": "markdown",
   "metadata": {},
   "source": [
    "----\n",
    "THIRD DATASET"
   ]
  },
  {
   "cell_type": "code",
   "execution_count": 14,
   "metadata": {},
   "outputs": [],
   "source": [
    "train_coco_path = \"/Users/osiprovin/Desktop/ml:dl/CV/Parking detection/Data/THIRD DATASET/Parkingslot/train/_annotations.coco.json\"\n",
    "val_coco_path = \"/Users/osiprovin/Desktop/ml:dl/CV/Parking detection/Data/THIRD DATASET/Parkingslot/valid/_annotations.coco.json\"\n",
    "test_coco_path = \"/Users/osiprovin/Desktop/ml:dl/CV/Parking detection/Data/THIRD DATASET/Parkingslot/test/_annotations.coco.json\"\n",
    "\n",
    "train_coco = json.load(open(train_coco_path))\n",
    "val_coco = json.load(open(val_coco_path))\n",
    "test_coco = json.load(open(test_coco_path))\n",
    "\n",
    "train_images_folder_path = \"/Users/osiprovin/Desktop/ml:dl/CV/Parking detection/Data/THIRD DATASET/Parkingslot/train\"\n",
    "val_images_folder_path = \"/Users/osiprovin/Desktop/ml:dl/CV/Parking detection/Data/THIRD DATASET/Parkingslot/valid\"\n",
    "test_images_folder_path = \"/Users/osiprovin/Desktop/ml:dl/CV/Parking detection/Data/THIRD DATASET/Parkingslot/test\""
   ]
  },
  {
   "cell_type": "code",
   "execution_count": 15,
   "metadata": {},
   "outputs": [
    {
     "data": {
      "text/plain": [
       "(1537, 426, 224)"
      ]
     },
     "execution_count": 15,
     "metadata": {},
     "output_type": "execute_result"
    }
   ],
   "source": [
    "len(train_coco[\"annotations\"]), len(val_coco[\"annotations\"]), len(test_coco[\"annotations\"])"
   ]
  },
  {
   "cell_type": "code",
   "execution_count": 16,
   "metadata": {},
   "outputs": [],
   "source": [
    "# this dataset set is small, so i will use all data, i will save it in 1 folder\n",
    "busy_num = -1\n",
    "# -1 beacause this dataset consists of only free spaces images, so we need to save all with a \"free\" path\n",
    "crop_save_by_coco_annotations(train_coco, paths[\"third\"][busy], paths[\"third\"][free], train_images_folder_path, busy_num)\n",
    "crop_save_by_coco_annotations(val_coco, paths[\"third\"][busy], paths[\"third\"][free], val_images_folder_path, busy_num, save_prefix=\"val\")\n",
    "crop_save_by_coco_annotations(test_coco, paths[\"third\"][busy], paths[\"third\"][free], test_images_folder_path, busy_num, save_prefix=\"test\")"
   ]
  },
  {
   "cell_type": "code",
   "execution_count": 17,
   "metadata": {},
   "outputs": [],
   "source": [
    "# this dataset consists of only free spaces images, but to create torchvision ImageFolder we need 2 classes at least, so lets append 1 random image\n",
    "img_name = os.listdir(paths[\"second\"][busy])[0]\n",
    "img_path = os.path.join(paths[\"second\"][busy], img_name)\n",
    "img = Image.open(img_path)\n",
    "save_path = os.path.join(paths[\"third\"][busy], \"random_name.jpg\")\n",
    "img.save(save_path)"
   ]
  },
  {
   "cell_type": "markdown",
   "metadata": {},
   "source": [
    "----\n",
    "SIXTH DATASET"
   ]
  },
  {
   "cell_type": "code",
   "execution_count": 18,
   "metadata": {},
   "outputs": [],
   "source": [
    "train_coco_path = \"/Users/osiprovin/Desktop/ml:dl/CV/Parking detection/Data/SIXTH DATASET/Parking Availability/train/_annotations.coco.json\"\n",
    "val_coco_path = \"/Users/osiprovin/Desktop/ml:dl/CV/Parking detection/Data/SIXTH DATASET/Parking Availability/valid/_annotations.coco.json\"\n",
    "test_coco_path = \"/Users/osiprovin/Desktop/ml:dl/CV/Parking detection/Data/SIXTH DATASET/Parking Availability/test/_annotations.coco.json\"\n",
    "\n",
    "train_coco = json.load(open(train_coco_path))\n",
    "val_coco = json.load(open(val_coco_path))\n",
    "test_coco = json.load(open(test_coco_path))\n",
    "\n",
    "train_images_folder_path = \"/Users/osiprovin/Desktop/ml:dl/CV/Parking detection/Data/SIXTH DATASET/Parking Availability/train\"\n",
    "val_images_folder_path = \"/Users/osiprovin/Desktop/ml:dl/CV/Parking detection/Data/SIXTH DATASET/Parking Availability/valid\"\n",
    "test_images_folder_path = \"/Users/osiprovin/Desktop/ml:dl/CV/Parking detection/Data/SIXTH DATASET/Parking Availability/test\""
   ]
  },
  {
   "cell_type": "code",
   "execution_count": 19,
   "metadata": {},
   "outputs": [
    {
     "data": {
      "text/plain": [
       "(8318, 85, 87)"
      ]
     },
     "execution_count": 19,
     "metadata": {},
     "output_type": "execute_result"
    }
   ],
   "source": [
    "len(train_coco[\"annotations\"]), len(val_coco[\"annotations\"]), len(test_coco[\"annotations\"])"
   ]
  },
  {
   "cell_type": "code",
   "execution_count": 20,
   "metadata": {},
   "outputs": [],
   "source": [
    "# this dataset set is small, so i will use all data, i will save it in 1 folder\n",
    "busy_num = 1\n",
    "crop_save_by_coco_annotations(train_coco, paths[\"sixth\"][busy], paths[\"sixth\"][free], train_images_folder_path, busy_num)\n",
    "crop_save_by_coco_annotations(val_coco, paths[\"sixth\"][busy], paths[\"sixth\"][free], val_images_folder_path, busy_num, save_prefix=\"val\")\n",
    "crop_save_by_coco_annotations(test_coco, paths[\"sixth\"][busy], paths[\"sixth\"][free], test_images_folder_path, busy_num, save_prefix=\"test\")"
   ]
  },
  {
   "cell_type": "markdown",
   "metadata": {},
   "source": [
    "----\n",
    "SEVENTH DATASET"
   ]
  },
  {
   "cell_type": "code",
   "execution_count": 21,
   "metadata": {},
   "outputs": [],
   "source": [
    "train_coco_path = \"/Users/osiprovin/Desktop/ml:dl/CV/Parking detection/Data/SEVENTH DATASET/Car park/train/_annotations.coco.json\"\n",
    "val_coco_path = \"/Users/osiprovin/Desktop/ml:dl/CV/Parking detection/Data/SEVENTH DATASET/Car park/valid/_annotations.coco.json\"\n",
    "test_coco_path = \"/Users/osiprovin/Desktop/ml:dl/CV/Parking detection/Data/SEVENTH DATASET/Car park/test/_annotations.coco.json\"\n",
    "\n",
    "train_coco = json.load(open(train_coco_path))\n",
    "val_coco = json.load(open(val_coco_path))\n",
    "test_coco = json.load(open(test_coco_path))\n",
    "\n",
    "train_images_folder_path = \"/Users/osiprovin/Desktop/ml:dl/CV/Parking detection/Data/SEVENTH DATASET/Car park/train\"\n",
    "val_images_folder_path = \"/Users/osiprovin/Desktop/ml:dl/CV/Parking detection/Data/SEVENTH DATASET/Car park/valid\"\n",
    "test_images_folder_path = \"/Users/osiprovin/Desktop/ml:dl/CV/Parking detection/Data/SEVENTH DATASET/Car park/test\""
   ]
  },
  {
   "cell_type": "code",
   "execution_count": 22,
   "metadata": {},
   "outputs": [
    {
     "data": {
      "text/plain": [
       "(5769, 753, 293)"
      ]
     },
     "execution_count": 22,
     "metadata": {},
     "output_type": "execute_result"
    }
   ],
   "source": [
    "len(train_coco[\"annotations\"]), len(val_coco[\"annotations\"]), len(test_coco[\"annotations\"])"
   ]
  },
  {
   "cell_type": "code",
   "execution_count": 23,
   "metadata": {},
   "outputs": [],
   "source": [
    "# this dataset set is small, so i will use all data, i will save it in 1 folder\n",
    "busy_num = 1\n",
    "crop_save_by_coco_annotations(train_coco, paths[\"seventh\"][busy], paths[\"seventh\"][free], train_images_folder_path, busy_num)\n",
    "crop_save_by_coco_annotations(val_coco, paths[\"seventh\"][busy], paths[\"seventh\"][free], val_images_folder_path, busy_num, save_prefix=\"val\")\n",
    "crop_save_by_coco_annotations(test_coco, paths[\"seventh\"][busy], paths[\"seventh\"][free], test_images_folder_path, busy_num, save_prefix=\"test\")"
   ]
  },
  {
   "cell_type": "markdown",
   "metadata": {},
   "source": [
    "----\n",
    "ROTATE"
   ]
  },
  {
   "cell_type": "code",
   "execution_count": 24,
   "metadata": {},
   "outputs": [],
   "source": [
    "def get_rotated_duplicates(image, angles):\n",
    "    rotated_images = []\n",
    "    for angle in angles:\n",
    "        rotated_image = image.rotate(angle, expand=True)\n",
    "        rotated_images.append(rotated_image)\n",
    "    return rotated_images"
   ]
  },
  {
   "cell_type": "code",
   "execution_count": 25,
   "metadata": {},
   "outputs": [],
   "source": [
    "def rotate_every_image(folder_path, angles):\n",
    "    for root, dirs, files in os.walk(folder_path):\n",
    "        for image_name in files:\n",
    "            if image_name.endswith(\".jpg\"): \n",
    "                image_path = os.path.join(root, image_name)\n",
    "                image = Image.open(image_path)\n",
    "                rotated_dublicates = get_rotated_duplicates(image, angles)\n",
    "                \n",
    "                for idx, rotated_image in enumerate(rotated_dublicates):\n",
    "                    rotated_image_name = f\"{angles[idx]}_{image_name}\"\n",
    "                    save_path = os.path.join(root, rotated_image_name)\n",
    "                    rotated_image.save(save_path)"
   ]
  },
  {
   "cell_type": "code",
   "execution_count": 26,
   "metadata": {},
   "outputs": [],
   "source": [
    "angles = [90, 180, 270]"
   ]
  },
  {
   "cell_type": "code",
   "execution_count": 27,
   "metadata": {},
   "outputs": [],
   "source": [
    "# second and third datasets consists of top view images, so we can rotate every image normally, also we need to extend this datasets cause they are small\n",
    "rotate_every_image(second_save_folder_path, angles)\n",
    "rotate_every_image(third_save_folder_path, angles)\n",
    "rotate_every_image(sixth_save_folder_path, angles)\n",
    "rotate_every_image(seventh_save_folder_path, angles)"
   ]
  }
 ],
 "metadata": {
  "kernelspec": {
   "display_name": "Python 3",
   "language": "python",
   "name": "python3"
  },
  "language_info": {
   "codemirror_mode": {
    "name": "ipython",
    "version": 3
   },
   "file_extension": ".py",
   "mimetype": "text/x-python",
   "name": "python",
   "nbconvert_exporter": "python",
   "pygments_lexer": "ipython3",
   "version": "3.10.5"
  }
 },
 "nbformat": 4,
 "nbformat_minor": 2
}
